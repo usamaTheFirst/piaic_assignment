{
 "cells": [
  {
   "cell_type": "code",
   "execution_count": 94,
   "metadata": {},
   "outputs": [],
   "source": [
    "import pandas as pd\n",
    "import numpy as np\n",
    "import requests\n",
    "from bs4 import BeautifulSoup "
   ]
  },
  {
   "cell_type": "code",
   "execution_count": 95,
   "metadata": {},
   "outputs": [],
   "source": [
    "res = requests.get(\"https://asrank.caida.org/asns/101030\")"
   ]
  },
  {
   "cell_type": "code",
   "execution_count": 96,
   "metadata": {},
   "outputs": [],
   "source": [
    "soup = BeautifulSoup(res.content,\"html\")"
   ]
  },
  {
   "cell_type": "code",
   "execution_count": 97,
   "metadata": {},
   "outputs": [],
   "source": [
    "table = soup.find_all(\"table\")"
   ]
  },
  {
   "cell_type": "code",
   "execution_count": 98,
   "metadata": {},
   "outputs": [
    {
     "data": {
      "text/plain": [
       "1"
      ]
     },
     "execution_count": 98,
     "metadata": {},
     "output_type": "execute_result"
    }
   ],
   "source": [
    "len(table)"
   ]
  },
  {
   "cell_type": "code",
   "execution_count": 99,
   "metadata": {},
   "outputs": [
    {
     "name": "stdout",
     "output_type": "stream",
     "text": [
      "\n"
     ]
    }
   ],
   "source": [
    "table\n",
    "print()"
   ]
  },
  {
   "cell_type": "code",
   "execution_count": 100,
   "metadata": {},
   "outputs": [
    {
     "data": {
      "text/plain": [
       "[<table border=\"0\" class=\"asrank-info-table table-condensed\">\n",
       " <tr><th>AS number</th><td colspan=\"7\">101030</td></tr>\n",
       " <tr><th>AS name</th><td colspan=\"7\"><span class=\"asrank-unknown\">unknown</span></td></tr>\n",
       " <tr><th>organization</th><td colspan=\"7\"><a href=\"/orgs\"><span class=\"asrank-unknown\">unknown</span></a></td></tr>\n",
       " <tr><th>country</th><td colspan=\"7\">\n",
       " <span class=\"asrank-unknown\">unknown</span>\n",
       " <span class='flag-icon flag-icon-&lt;span class=\"asrank-unknown\"&gt;unknown&lt;/span&gt;'></span>\n",
       " </td></tr>\n",
       " <tr><th>AS rank</th><td colspan=\"7\"><span class=\"asrank-unknown\">unknown</span></td></tr>\n",
       " <tr><th>customer cone </th>\n",
       " <td class=\"asrank-info-table-sub_facts\" data-placement=\"top\" data-toggle=\"tooltip\" title=\"The number of ASNs that are observed to be in the selected ASN's customer cone.\"> \n",
       "             0<br/>\n",
       " <span>asn</span>\n",
       " </td>\n",
       " <td class=\"asrank-info-table-sub_facts\" data-placement=\"top\" data-toggle=\"tooltip\" title=\"The number of prefixes that are observed to be in the selected ASN's customer cone.\"> \n",
       "             0<br/>\n",
       " <span>prefix</span>\n",
       " </td>\n",
       " <td class=\"asrank-info-table-sub_facts\" data-placement=\"top\" data-toggle=\"tooltip\" title=\"The number of addresses that are observed to be in the selected ASN's customer cone.\"> \n",
       "             0<br/>\n",
       " <span>address</span>\n",
       " </td>\n",
       " </tr>\n",
       " <tr><th>AS degree</th>\n",
       " <td class=\"asrank-info-table-sub_facts\" data-placement=\"top\" data-toggle=\"tooltip\" title=\"The number of ASNs that were observed as neighbors of the selected ASN in a path.\">\n",
       "             0<br/>\n",
       " <span>global</span>\n",
       " </td>\n",
       " <td class=\"asrank-info-table-sub_facts\" data-placement=\"top\" data-toggle=\"tooltip\" title=\"The number of ASNs that where observed as neighbors of the selected ASN in a path, where the selected ASN was between, i.e. providing transit, for two other ASNs.\"> \n",
       "             0<br/>\n",
       " <span>transit</span>\n",
       " </td>\n",
       " <td class=\"asrank-info-table-sub_facts\" data-placement=\"top\" data-toggle=\"tooltip\" title=\"The number of ASNs that are providers of the selected ASN.\"> \n",
       "             0<br/>\n",
       " <span>provider</span>\n",
       " </td>\n",
       " <td class=\"asrank-info-table-sub_facts\" data-placement=\"top\" data-toggle=\"tooltip\" title=\"The number of ASNs that are peers of the selected ASN.\"> \n",
       "             0<br/>\n",
       " <span>peer</span>\n",
       " </td>\n",
       " <td class=\"asrank-info-table-sub_facts\" data-placement=\"top\" data-toggle=\"tooltip\" title=\"The number of ASNs that are customers of the selected ASN.\"> \n",
       "             0<br/>\n",
       " <span>customer</span>\n",
       " </td>\n",
       " </tr>\n",
       " </table>]"
      ]
     },
     "execution_count": 100,
     "metadata": {},
     "output_type": "execute_result"
    }
   ],
   "source": [
    "table"
   ]
  },
  {
   "cell_type": "code",
   "execution_count": 101,
   "metadata": {},
   "outputs": [],
   "source": [
    "data = pd.read_html(str(table))"
   ]
  },
  {
   "cell_type": "code",
   "execution_count": 102,
   "metadata": {},
   "outputs": [
    {
     "data": {
      "text/plain": [
       "[               0         1          2           3        4           5  \\\n",
       " 0      AS number    101030     101030      101030   101030      101030   \n",
       " 1        AS name   unknown    unknown     unknown  unknown     unknown   \n",
       " 2   organization   unknown    unknown     unknown  unknown     unknown   \n",
       " 3        country   unknown    unknown     unknown  unknown     unknown   \n",
       " 4        AS rank   unknown    unknown     unknown  unknown     unknown   \n",
       " 5  customer cone     0 asn   0 prefix   0 address      NaN         NaN   \n",
       " 6      AS degree  0 global  0 transit  0 provider   0 peer  0 customer   \n",
       " \n",
       "          6        7  \n",
       " 0   101030   101030  \n",
       " 1  unknown  unknown  \n",
       " 2  unknown  unknown  \n",
       " 3  unknown  unknown  \n",
       " 4  unknown  unknown  \n",
       " 5      NaN      NaN  \n",
       " 6      NaN      NaN  ]"
      ]
     },
     "execution_count": 102,
     "metadata": {},
     "output_type": "execute_result"
    }
   ],
   "source": [
    "data"
   ]
  },
  {
   "cell_type": "code",
   "execution_count": 103,
   "metadata": {},
   "outputs": [
    {
     "data": {
      "text/html": [
       "<div>\n",
       "<style scoped>\n",
       "    .dataframe tbody tr th:only-of-type {\n",
       "        vertical-align: middle;\n",
       "    }\n",
       "\n",
       "    .dataframe tbody tr th {\n",
       "        vertical-align: top;\n",
       "    }\n",
       "\n",
       "    .dataframe thead th {\n",
       "        text-align: right;\n",
       "    }\n",
       "</style>\n",
       "<table border=\"1\" class=\"dataframe\">\n",
       "  <thead>\n",
       "    <tr style=\"text-align: right;\">\n",
       "      <th></th>\n",
       "      <th>0</th>\n",
       "      <th>1</th>\n",
       "      <th>2</th>\n",
       "      <th>3</th>\n",
       "      <th>4</th>\n",
       "      <th>5</th>\n",
       "      <th>6</th>\n",
       "      <th>7</th>\n",
       "    </tr>\n",
       "  </thead>\n",
       "  <tbody>\n",
       "    <tr>\n",
       "      <th>0</th>\n",
       "      <td>AS number</td>\n",
       "      <td>101030</td>\n",
       "      <td>101030</td>\n",
       "      <td>101030</td>\n",
       "      <td>101030</td>\n",
       "      <td>101030</td>\n",
       "      <td>101030</td>\n",
       "      <td>101030</td>\n",
       "    </tr>\n",
       "    <tr>\n",
       "      <th>1</th>\n",
       "      <td>AS name</td>\n",
       "      <td>unknown</td>\n",
       "      <td>unknown</td>\n",
       "      <td>unknown</td>\n",
       "      <td>unknown</td>\n",
       "      <td>unknown</td>\n",
       "      <td>unknown</td>\n",
       "      <td>unknown</td>\n",
       "    </tr>\n",
       "    <tr>\n",
       "      <th>2</th>\n",
       "      <td>organization</td>\n",
       "      <td>unknown</td>\n",
       "      <td>unknown</td>\n",
       "      <td>unknown</td>\n",
       "      <td>unknown</td>\n",
       "      <td>unknown</td>\n",
       "      <td>unknown</td>\n",
       "      <td>unknown</td>\n",
       "    </tr>\n",
       "    <tr>\n",
       "      <th>3</th>\n",
       "      <td>country</td>\n",
       "      <td>unknown</td>\n",
       "      <td>unknown</td>\n",
       "      <td>unknown</td>\n",
       "      <td>unknown</td>\n",
       "      <td>unknown</td>\n",
       "      <td>unknown</td>\n",
       "      <td>unknown</td>\n",
       "    </tr>\n",
       "    <tr>\n",
       "      <th>4</th>\n",
       "      <td>AS rank</td>\n",
       "      <td>unknown</td>\n",
       "      <td>unknown</td>\n",
       "      <td>unknown</td>\n",
       "      <td>unknown</td>\n",
       "      <td>unknown</td>\n",
       "      <td>unknown</td>\n",
       "      <td>unknown</td>\n",
       "    </tr>\n",
       "    <tr>\n",
       "      <th>5</th>\n",
       "      <td>customer cone</td>\n",
       "      <td>0 asn</td>\n",
       "      <td>0 prefix</td>\n",
       "      <td>0 address</td>\n",
       "      <td>NaN</td>\n",
       "      <td>NaN</td>\n",
       "      <td>NaN</td>\n",
       "      <td>NaN</td>\n",
       "    </tr>\n",
       "    <tr>\n",
       "      <th>6</th>\n",
       "      <td>AS degree</td>\n",
       "      <td>0 global</td>\n",
       "      <td>0 transit</td>\n",
       "      <td>0 provider</td>\n",
       "      <td>0 peer</td>\n",
       "      <td>0 customer</td>\n",
       "      <td>NaN</td>\n",
       "      <td>NaN</td>\n",
       "    </tr>\n",
       "  </tbody>\n",
       "</table>\n",
       "</div>"
      ],
      "text/plain": [
       "               0         1          2           3        4           5  \\\n",
       "0      AS number    101030     101030      101030   101030      101030   \n",
       "1        AS name   unknown    unknown     unknown  unknown     unknown   \n",
       "2   organization   unknown    unknown     unknown  unknown     unknown   \n",
       "3        country   unknown    unknown     unknown  unknown     unknown   \n",
       "4        AS rank   unknown    unknown     unknown  unknown     unknown   \n",
       "5  customer cone     0 asn   0 prefix   0 address      NaN         NaN   \n",
       "6      AS degree  0 global  0 transit  0 provider   0 peer  0 customer   \n",
       "\n",
       "         6        7  \n",
       "0   101030   101030  \n",
       "1  unknown  unknown  \n",
       "2  unknown  unknown  \n",
       "3  unknown  unknown  \n",
       "4  unknown  unknown  \n",
       "5      NaN      NaN  \n",
       "6      NaN      NaN  "
      ]
     },
     "execution_count": 103,
     "metadata": {},
     "output_type": "execute_result"
    }
   ],
   "source": [
    "data[0]"
   ]
  },
  {
   "cell_type": "code",
   "execution_count": null,
   "metadata": {},
   "outputs": [],
   "source": []
  },
  {
   "cell_type": "code",
   "execution_count": null,
   "metadata": {},
   "outputs": [],
   "source": []
  }
 ],
 "metadata": {
  "kernelspec": {
   "display_name": "Python 3",
   "language": "python",
   "name": "python3"
  },
  "language_info": {
   "codemirror_mode": {
    "name": "ipython",
    "version": 3
   },
   "file_extension": ".py",
   "mimetype": "text/x-python",
   "name": "python",
   "nbconvert_exporter": "python",
   "pygments_lexer": "ipython3",
   "version": "3.8.5"
  }
 },
 "nbformat": 4,
 "nbformat_minor": 4
}
